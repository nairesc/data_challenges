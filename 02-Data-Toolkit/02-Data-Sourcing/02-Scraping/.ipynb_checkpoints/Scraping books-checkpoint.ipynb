{
 "cells": [
  {
   "cell_type": "markdown",
   "id": "0077f413",
   "metadata": {},
   "source": [
    "# Web Scraping"
   ]
  },
  {
   "cell_type": "markdown",
   "id": "b2b42e9b",
   "metadata": {},
   "source": [
    "The goal is to scrape the website and then use pandas to visualize the extracted information."
   ]
  },
  {
   "cell_type": "code",
   "execution_count": 1,
   "id": "faf49e2e",
   "metadata": {},
   "outputs": [],
   "source": [
    "# import libraries\n",
    "import requests\n",
    "from bs4 import BeautifulSoup\n",
    "\n",
    "import numpy as np\n",
    "import pandas as pd\n",
    "\n",
    "%matplotlib inline\n",
    "import matplotlib"
   ]
  },
  {
   "cell_type": "code",
   "execution_count": 2,
   "id": "1c544dd8",
   "metadata": {},
   "outputs": [],
   "source": [
    "url = \"http://books.toscrape.com/\"\n",
    "response = requests.get(url)\n",
    "soup = BeautifulSoup(response.content, \"html.parser\")"
   ]
  },
  {
   "cell_type": "code",
   "execution_count": 18,
   "id": "5c710a90",
   "metadata": {},
   "outputs": [],
   "source": [
    "books_html = soup.find_all(\"article\", class_=\"product_pod\")"
   ]
  },
  {
   "cell_type": "markdown",
   "id": "e30bcce5",
   "metadata": {},
   "source": [
    "## Parsing _one_ book"
   ]
  },
  {
   "cell_type": "code",
   "execution_count": 53,
   "id": "6b68f2c5",
   "metadata": {},
   "outputs": [
    {
     "data": {
      "text/plain": [
       "'A Light in the Attic'"
      ]
     },
     "execution_count": 53,
     "metadata": {},
     "output_type": "execute_result"
    }
   ],
   "source": [
    "title = books_html[0].find(\"h3\").find(\"a\").attrs[\"title\"]\n",
    "title"
   ]
  },
  {
   "cell_type": "code",
   "execution_count": 61,
   "id": "c96d5839",
   "metadata": {},
   "outputs": [
    {
     "data": {
      "text/plain": [
       "51.77"
      ]
     },
     "execution_count": 61,
     "metadata": {},
     "output_type": "execute_result"
    }
   ],
   "source": [
    "price = float(books_html[0].find(\"p\", class_=\"price_color\").string.strip(\"£\"))\n",
    "price"
   ]
  },
  {
   "cell_type": "code",
   "execution_count": 100,
   "id": "87fa090c",
   "metadata": {},
   "outputs": [
    {
     "data": {
      "text/plain": [
       "'Three'"
      ]
     },
     "execution_count": 100,
     "metadata": {},
     "output_type": "execute_result"
    }
   ],
   "source": [
    "rating = books_html[0].find(\"p\",class_=\"star-rating\").attrs[\"class\"][1]\n",
    "rating"
   ]
  },
  {
   "cell_type": "markdown",
   "id": "698a81e1",
   "metadata": {},
   "source": [
    "Returns the rating from 1 to 5"
   ]
  },
  {
   "cell_type": "code",
   "execution_count": 98,
   "id": "4d3408aa",
   "metadata": {},
   "outputs": [],
   "source": [
    "def parse_rating(rating):\n",
    "    dic = {\"One\":1, \"Two\":2, \"Three\":3, \"Four\":4, \"Five\":5}\n",
    "    for item, value in dic.items():\n",
    "        if rating.lower() in item.lower():\n",
    "            return value"
   ]
  },
  {
   "cell_type": "code",
   "execution_count": 103,
   "id": "e9f1dd38",
   "metadata": {},
   "outputs": [
    {
     "data": {
      "text/plain": [
       "3"
      ]
     },
     "execution_count": 103,
     "metadata": {},
     "output_type": "execute_result"
    }
   ],
   "source": [
    "number_rating = parse_rating(rating)\n",
    "number_rating"
   ]
  },
  {
   "cell_type": "markdown",
   "id": "e2ce1483",
   "metadata": {},
   "source": [
    "## Parsing _all_ books"
   ]
  },
  {
   "cell_type": "code",
   "execution_count": null,
   "id": "e022b5db",
   "metadata": {},
   "outputs": [],
   "source": []
  }
 ],
 "metadata": {
  "kernelspec": {
   "display_name": "Python 3 (ipykernel)",
   "language": "python",
   "name": "python3"
  },
  "language_info": {
   "codemirror_mode": {
    "name": "ipython",
    "version": 3
   },
   "file_extension": ".py",
   "mimetype": "text/x-python",
   "name": "python",
   "nbconvert_exporter": "python",
   "pygments_lexer": "ipython3",
   "version": "3.8.12"
  }
 },
 "nbformat": 4,
 "nbformat_minor": 5
}
