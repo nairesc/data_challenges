{
 "cells": [
  {
   "cell_type": "markdown",
   "id": "0077f413",
   "metadata": {},
   "source": [
    "# Web Scraping"
   ]
  },
  {
   "cell_type": "markdown",
   "id": "b2b42e9b",
   "metadata": {},
   "source": [
    "The goal is to scrape the website and then use pandas to visualize the extracted information."
   ]
  },
  {
   "cell_type": "code",
   "execution_count": 1,
   "id": "faf49e2e",
   "metadata": {},
   "outputs": [],
   "source": [
    "# import libraries\n",
    "import requests\n",
    "from bs4 import BeautifulSoup\n",
    "\n",
    "import numpy as np\n",
    "import pandas as pd\n",
    "\n",
    "%matplotlib inline\n",
    "import matplotlib"
   ]
  },
  {
   "cell_type": "code",
   "execution_count": 2,
   "id": "1c544dd8",
   "metadata": {},
   "outputs": [],
   "source": [
    "url = \"http://books.toscrape.com/\"\n",
    "response = requests.get(url)\n",
    "soup = BeautifulSoup(response.content, \"html.parser\")"
   ]
  },
  {
   "cell_type": "code",
   "execution_count": 3,
   "id": "5c710a90",
   "metadata": {},
   "outputs": [],
   "source": [
    "books_html = soup.find_all(\"article\", class_=\"product_pod\")"
   ]
  },
  {
   "cell_type": "markdown",
   "id": "e30bcce5",
   "metadata": {},
   "source": [
    "## Parsing _one_ book"
   ]
  },
  {
   "cell_type": "code",
   "execution_count": 53,
   "id": "6b68f2c5",
   "metadata": {},
   "outputs": [
    {
     "data": {
      "text/plain": [
       "'A Light in the Attic'"
      ]
     },
     "execution_count": 53,
     "metadata": {},
     "output_type": "execute_result"
    }
   ],
   "source": [
    "title = books_html[0].find(\"h3\").find(\"a\").attrs[\"title\"]\n",
    "title"
   ]
  },
  {
   "cell_type": "code",
   "execution_count": 61,
   "id": "c96d5839",
   "metadata": {},
   "outputs": [
    {
     "data": {
      "text/plain": [
       "51.77"
      ]
     },
     "execution_count": 61,
     "metadata": {},
     "output_type": "execute_result"
    }
   ],
   "source": [
    "price = float(books_html[0].find(\"p\", class_=\"price_color\").string.strip(\"£\"))\n",
    "price"
   ]
  },
  {
   "cell_type": "code",
   "execution_count": 100,
   "id": "87fa090c",
   "metadata": {},
   "outputs": [
    {
     "data": {
      "text/plain": [
       "'Three'"
      ]
     },
     "execution_count": 100,
     "metadata": {},
     "output_type": "execute_result"
    }
   ],
   "source": [
    "rating = books_html[0].find(\"p\",class_=\"star-rating\").attrs[\"class\"][1]\n",
    "rating"
   ]
  },
  {
   "cell_type": "markdown",
   "id": "698a81e1",
   "metadata": {},
   "source": [
    "Returns the rating from 1 to 5"
   ]
  },
  {
   "cell_type": "code",
   "execution_count": 24,
   "id": "4d3408aa",
   "metadata": {},
   "outputs": [],
   "source": [
    "def parse_rating(rating):\n",
    "    dic = {\"One\":1, \"Two\":2, \"Three\":3, \"Four\":4, \"Five\":5}\n",
    "    for item, value in dic.items():\n",
    "        if rating.lower() in item.lower():\n",
    "            return value"
   ]
  },
  {
   "cell_type": "code",
   "execution_count": 103,
   "id": "e9f1dd38",
   "metadata": {},
   "outputs": [
    {
     "data": {
      "text/plain": [
       "3"
      ]
     },
     "execution_count": 103,
     "metadata": {},
     "output_type": "execute_result"
    }
   ],
   "source": [
    "number_rating = parse_rating(rating)\n",
    "number_rating"
   ]
  },
  {
   "cell_type": "markdown",
   "id": "e2ce1483",
   "metadata": {},
   "source": [
    "## Parsing _all_ books"
   ]
  },
  {
   "cell_type": "code",
   "execution_count": 29,
   "id": "e022b5db",
   "metadata": {},
   "outputs": [],
   "source": [
    "books_dict = { \"Title\": [], \"Price\": [], \"Rating\": [] }"
   ]
  },
  {
   "cell_type": "code",
   "execution_count": 30,
   "id": "8b7b98c4",
   "metadata": {},
   "outputs": [],
   "source": [
    "for _ in range(len(books_html)):\n",
    "    books_dict[\"Title\"].append(books_html[_].find(\"h3\").find(\"a\").attrs[\"title\"])\n",
    "    books_dict[\"Price\"].append(float(books_html[_].find(\"p\", class_=\"price_color\").string.strip(\"£\")))\n",
    "    books_dict[\"Rating\"].append(parse_rating(books_html[_].find(\"p\",class_=\"star-rating\").attrs[\"class\"][1]))"
   ]
  },
  {
   "cell_type": "code",
   "execution_count": 34,
   "id": "90e3fd9a",
   "metadata": {},
   "outputs": [
    {
     "data": {
      "text/plain": [
       "{'Title': ['A Light in the Attic',\n",
       "  'Tipping the Velvet',\n",
       "  'Soumission',\n",
       "  'Sharp Objects',\n",
       "  'Sapiens: A Brief History of Humankind',\n",
       "  'The Requiem Red',\n",
       "  'The Dirty Little Secrets of Getting Your Dream Job',\n",
       "  'The Coming Woman: A Novel Based on the Life of the Infamous Feminist, Victoria Woodhull',\n",
       "  'The Boys in the Boat: Nine Americans and Their Epic Quest for Gold at the 1936 Berlin Olympics',\n",
       "  'The Black Maria',\n",
       "  'Starving Hearts (Triangular Trade Trilogy, #1)',\n",
       "  \"Shakespeare's Sonnets\",\n",
       "  'Set Me Free',\n",
       "  \"Scott Pilgrim's Precious Little Life (Scott Pilgrim #1)\",\n",
       "  'Rip it Up and Start Again',\n",
       "  'Our Band Could Be Your Life: Scenes from the American Indie Underground, 1981-1991',\n",
       "  'Olio',\n",
       "  'Mesaerion: The Best Science Fiction Stories 1800-1849',\n",
       "  'Libertarianism for Beginners',\n",
       "  \"It's Only the Himalayas\"],\n",
       " 'Price': [51.77,\n",
       "  53.74,\n",
       "  50.1,\n",
       "  47.82,\n",
       "  54.23,\n",
       "  22.65,\n",
       "  33.34,\n",
       "  17.93,\n",
       "  22.6,\n",
       "  52.15,\n",
       "  13.99,\n",
       "  20.66,\n",
       "  17.46,\n",
       "  52.29,\n",
       "  35.02,\n",
       "  57.25,\n",
       "  23.88,\n",
       "  37.59,\n",
       "  51.33,\n",
       "  45.17],\n",
       " 'Rating': [3, 1, 1, 4, 5, 1, 4, 3, 4, 1, 2, 4, 5, 5, 5, 3, 1, 1, 2, 2]}"
      ]
     },
     "execution_count": 34,
     "metadata": {},
     "output_type": "execute_result"
    }
   ],
   "source": [
    "books_dict"
   ]
  },
  {
   "cell_type": "markdown",
   "id": "6c946479",
   "metadata": {},
   "source": [
    "## Analysis with Pandas"
   ]
  },
  {
   "cell_type": "code",
   "execution_count": 35,
   "id": "3840017e",
   "metadata": {},
   "outputs": [],
   "source": [
    "books_df = pd.DataFrame.from_dict(books_dict)"
   ]
  },
  {
   "cell_type": "code",
   "execution_count": 37,
   "id": "f097f43a",
   "metadata": {},
   "outputs": [
    {
     "data": {
      "text/html": [
       "<div>\n",
       "<style scoped>\n",
       "    .dataframe tbody tr th:only-of-type {\n",
       "        vertical-align: middle;\n",
       "    }\n",
       "\n",
       "    .dataframe tbody tr th {\n",
       "        vertical-align: top;\n",
       "    }\n",
       "\n",
       "    .dataframe thead th {\n",
       "        text-align: right;\n",
       "    }\n",
       "</style>\n",
       "<table border=\"1\" class=\"dataframe\">\n",
       "  <thead>\n",
       "    <tr style=\"text-align: right;\">\n",
       "      <th></th>\n",
       "      <th>Title</th>\n",
       "      <th>Price</th>\n",
       "      <th>Rating</th>\n",
       "    </tr>\n",
       "  </thead>\n",
       "  <tbody>\n",
       "    <tr>\n",
       "      <th>0</th>\n",
       "      <td>A Light in the Attic</td>\n",
       "      <td>51.77</td>\n",
       "      <td>3</td>\n",
       "    </tr>\n",
       "    <tr>\n",
       "      <th>1</th>\n",
       "      <td>Tipping the Velvet</td>\n",
       "      <td>53.74</td>\n",
       "      <td>1</td>\n",
       "    </tr>\n",
       "    <tr>\n",
       "      <th>2</th>\n",
       "      <td>Soumission</td>\n",
       "      <td>50.10</td>\n",
       "      <td>1</td>\n",
       "    </tr>\n",
       "    <tr>\n",
       "      <th>3</th>\n",
       "      <td>Sharp Objects</td>\n",
       "      <td>47.82</td>\n",
       "      <td>4</td>\n",
       "    </tr>\n",
       "    <tr>\n",
       "      <th>4</th>\n",
       "      <td>Sapiens: A Brief History of Humankind</td>\n",
       "      <td>54.23</td>\n",
       "      <td>5</td>\n",
       "    </tr>\n",
       "  </tbody>\n",
       "</table>\n",
       "</div>"
      ],
      "text/plain": [
       "                                   Title  Price  Rating\n",
       "0                   A Light in the Attic  51.77       3\n",
       "1                     Tipping the Velvet  53.74       1\n",
       "2                             Soumission  50.10       1\n",
       "3                          Sharp Objects  47.82       4\n",
       "4  Sapiens: A Brief History of Humankind  54.23       5"
      ]
     },
     "execution_count": 37,
     "metadata": {},
     "output_type": "execute_result"
    }
   ],
   "source": [
    "books_df.head()"
   ]
  },
  {
   "cell_type": "code",
   "execution_count": 43,
   "id": "d18df942",
   "metadata": {},
   "outputs": [
    {
     "data": {
      "image/png": "[encoded data removed]",
      "text/plain": [
       "<Figure size 432x288 with 1 Axes>"
      ]
     },
     "metadata": {
      "needs_background": "light"
     },
     "output_type": "display_data"
    }
   ],
   "source": [
    "books_df.groupby(\"Rating\").count()[\"Title\"].plot(kind=\"bar\", colormap=\"Spectral\");"
   ]
  },
  {
   "cell_type": "markdown",
   "id": "67259be8",
   "metadata": {},
   "source": [
    "## Going through _all_ the pages of the catalogue\n"
   ]
  },
  {
   "cell_type": "code",
   "execution_count": 57,
   "id": "d9cc3946",
   "metadata": {},
   "outputs": [],
   "source": [
    "MAX_PAGE = 20\n",
    "all_books_dict = { 'Title': [], 'Price': [], 'Rating': [] }\n",
    "\n",
    "for page in range(1, MAX_PAGE + 1):\n",
    "    url = f\"http://books.toscrape.com/catalogue/page-{page}.html\"\n",
    "    response = requests.get(url)\n",
    "    soup = BeautifulSoup(response.content, \"html.parser\")\n",
    "    \n",
    "    for book in soup.find_all(\"article\", class_=\"product_pod\"):\n",
    "        all_books_dict[\"Title\"].append(book.find(\"h3\").find(\"a\").attrs[\"title\"])\n",
    "        all_books_dict[\"Price\"].append(float(book.find(\"p\", class_=\"price_color\").string.strip(\"£\")))\n",
    "        all_books_dict[\"Rating\"].append(parse_rating(book.find(\"p\",class_=\"star-rating\").attrs[\"class\"][1]))"
   ]
  },
  {
   "cell_type": "code",
   "execution_count": 60,
   "id": "e001cd21",
   "metadata": {},
   "outputs": [
    {
     "data": {
      "text/plain": [
       "400"
      ]
     },
     "execution_count": 60,
     "metadata": {},
     "output_type": "execute_result"
    }
   ],
   "source": [
    "len(all_books_dict[\"Title\"])"
   ]
  },
  {
   "cell_type": "code",
   "execution_count": 61,
   "id": "5ad9d4d2",
   "metadata": {},
   "outputs": [],
   "source": [
    "all_books_df = pd.DataFrame.from_dict(all_books_dict)"
   ]
  },
  {
   "cell_type": "markdown",
   "id": "e3416862",
   "metadata": {},
   "source": [
    "how expensive the books are"
   ]
  },
  {
   "cell_type": "code",
   "execution_count": 76,
   "id": "165cd92b",
   "metadata": {},
   "outputs": [
    {
     "data": {
      "image/png": "[encoded data removed]",
      "text/plain": [
       "<Figure size 432x288 with 1 Axes>"
      ]
     },
     "metadata": {
      "needs_background": "light"
     },
     "output_type": "display_data"
    }
   ],
   "source": [
    "all_books_df.Price.hist(color=\"coral\", bins=30);"
   ]
  },
  {
   "cell_type": "markdown",
   "id": "e0181ec4",
   "metadata": {},
   "source": [
    "how expensive the books are"
   ]
  },
  {
   "cell_type": "code",
   "execution_count": 82,
   "id": "fc920ee3",
   "metadata": {},
   "outputs": [
    {
     "data": {
      "image/png": "[encoded data removed]",
      "text/plain": [
       "<Figure size 432x288 with 1 Axes>"
      ]
     },
     "metadata": {
      "needs_background": "light"
     },
     "output_type": "display_data"
    }
   ],
   "source": [
    "all_books_df.groupby(\"Rating\").count()[\"Title\"].plot(kind=\"bar\", colormap=\"Spectral\");"
   ]
  }
 ],
 "metadata": {
  "kernelspec": {
   "display_name": "Python 3 (ipykernel)",
   "language": "python",
   "name": "python3"
  },
  "language_info": {
   "codemirror_mode": {
    "name": "ipython",
    "version": 3
   },
   "file_extension": ".py",
   "mimetype": "text/x-python",
   "name": "python",
   "nbconvert_exporter": "python",
   "pygments_lexer": "ipython3",
   "version": "3.8.12"
  }
 },
 "nbformat": 4,
 "nbformat_minor": 5
}
